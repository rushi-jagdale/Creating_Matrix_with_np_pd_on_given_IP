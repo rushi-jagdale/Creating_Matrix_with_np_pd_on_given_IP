{
 "cells": [
  {
   "cell_type": "code",
   "execution_count": 3,
   "id": "463b196a",
   "metadata": {},
   "outputs": [],
   "source": [
    "import pandas as pd\n",
    "import numpy as np"
   ]
  },
  {
   "cell_type": "markdown",
   "id": "c76353c1",
   "metadata": {},
   "source": [
    "## create matrix (8,16) for given numbers\n",
    "### For Integers"
   ]
  },
  {
   "cell_type": "code",
   "execution_count": 41,
   "id": "e5e5c0d6",
   "metadata": {},
   "outputs": [
    {
     "data": {
      "text/plain": [
       "array([[1, 1, 1, 1, 1, 1, 0, 0, 0, 1, 0, 1, 0, 1, 0, 1],\n",
       "       [1, 1, 1, 1, 1, 1, 1, 0, 1, 0, 0, 1, 0, 1, 0, 1],\n",
       "       [1, 1, 0, 0, 0, 0, 1, 1, 1, 1, 1, 1, 0, 1, 0, 1],\n",
       "       [0, 0, 0, 0, 0, 0, 0, 0, 0, 0, 0, 0, 0, 0, 0, 0],\n",
       "       [0, 0, 0, 0, 0, 0, 0, 0, 0, 0, 0, 0, 0, 0, 0, 0],\n",
       "       [1, 1, 0, 1, 0, 1, 0, 1, 1, 1, 1, 1, 1, 1, 0, 0],\n",
       "       [1, 1, 0, 1, 0, 1, 0, 1, 1, 1, 1, 1, 1, 1, 1, 0],\n",
       "       [1, 1, 1, 1, 1, 0, 0, 0, 1, 1, 1, 1, 1, 1, 0, 1]])"
      ]
     },
     "execution_count": 41,
     "metadata": {},
     "output_type": "execute_result"
    }
   ],
   "source": [
    "numbers =11111100010101011111111010010101110000111111010100000000000000000000000000000000110101011111110011010101111111101111100011111101\n",
    "data =  [int(i) for i in str(numbers)]\n",
    "new_list = []\n",
    "for i in data:\n",
    "    new_list.append(i)\n",
    "\n",
    "m = []\n",
    "# while new_list != []:\n",
    "#     m.append(new_list[:16])\n",
    "#     new_list = new_list[16:]    \n",
    "data =  [int(i) for i in str(numbers)]\n",
    "new_list = []\n",
    "for i in data:\n",
    "    new_list.append(i)\n",
    "ar = np.array(new_list)\n",
    "ar.reshape(8,16)\n",
    "\n",
    "\n"
   ]
  },
  {
   "cell_type": "markdown",
   "id": "97ab962c",
   "metadata": {},
   "source": [
    "### For string"
   ]
  },
  {
   "cell_type": "code",
   "execution_count": null,
   "id": "deccbab0",
   "metadata": {},
   "outputs": [],
   "source": [
    "numbers = \"11111100010101011111111010010101110000111111010100000000000000000000000000000000110101011111110011010101111111101111100011111101\"\n",
    "\n",
    "new_list = []\n",
    "\n",
    "\n",
    "for i in numbers:\n",
    "    new_list.append(i)\n",
    "#print(new_list)\n",
    "\n",
    "m = []\n",
    "while new_list != []:\n",
    "    m.append(new_list[:16])\n",
    "    new_list = new_list[16:]\n",
    "#print(m)\n",
    "#arr = np.array(m)\n",
    "#matrix = arr.reshape(8,16)\n",
    "\n",
    "arr = np.array(m)\n",
    "matrix = arr.reshape(8,16)\n",
    "\n"
   ]
  }
 ],
 "metadata": {
  "kernelspec": {
   "display_name": "Python 3 (ipykernel)",
   "language": "python",
   "name": "python3"
  },
  "language_info": {
   "codemirror_mode": {
    "name": "ipython",
    "version": 3
   },
   "file_extension": ".py",
   "mimetype": "text/x-python",
   "name": "python",
   "nbconvert_exporter": "python",
   "pygments_lexer": "ipython3",
   "version": "3.8.8"
  }
 },
 "nbformat": 4,
 "nbformat_minor": 5
}
